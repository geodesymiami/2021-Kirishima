{
 "cells": [
  {
   "cell_type": "markdown",
   "metadata": {},
   "source": [
    "## Figure 1 - Volcanic setting of Shinmoe-dake, Kirishima"
   ]
  },
  {
   "cell_type": "code",
   "execution_count": 30,
   "metadata": {},
   "outputs": [
    {
     "name": "stdout",
     "output_type": "stream",
     "text": [
      "Go to directory /Users/yunjunz/Documents/Paper/2019_Kirishima/figs_src/volcano_setting\n"
     ]
    }
   ],
   "source": [
    "%matplotlib inline\n",
    "\n",
    "import os\n",
    "import numpy as np\n",
    "from datetime import timedelta, datetime as dt\n",
    "from scipy.io import loadmat\n",
    "from matplotlib import pyplot as plt, ticker, dates as mdates\n",
    "from matplotlib.colors import LightSource\n",
    "from mintpy.defaults.plot import *\n",
    "from mintpy.utils import ptime, readfile, utils as ut, plot as pp\n",
    "\n",
    "work_dir = os.path.expanduser('~/Documents/Paper/2019_Kirishima/figs_src/volcano_setting')\n",
    "os.chdir(work_dir)\n",
    "print('Go to directory', work_dir)\n",
    "\n",
    "event_dates = ptime.date_list2vector(['20080822', '20100710'])[0]#, '20110119'])[0]"
   ]
  },
  {
   "cell_type": "code",
   "execution_count": 24,
   "metadata": {},
   "outputs": [],
   "source": [
    "## Fig. 1a - Topography with GMT\n",
    "\n",
    "#./dem.sh\n",
    "#./location.sh"
   ]
  },
  {
   "cell_type": "code",
   "execution_count": 25,
   "metadata": {},
   "outputs": [],
   "source": [
    "## Read GPS baseline change\n",
    "gps_file = os.path.expanduser('~/Documents/Paper/2019_Kirishima/figs_src/data/len_960714_950486.mat')\n",
    "gps_mat = loadmat(gps_file)\n",
    "gps_lens = gps_mat['Len'].flatten() * 100.\n",
    "gps_dates = [ptime.datenum2datetime(i) for i in gps_mat['T'].flatten()]\n",
    "# start from zero\n",
    "idx = gps_dates.index(dt(2005, 12, 15, 12, 0))\n",
    "gps_lens -= gps_lens[idx]\n",
    "\n",
    "## Read Number of EQ\n",
    "num_eq_file = os.path.expanduser('~/Documents/Paper/2019_Kirishima/figs_src/data/EQ_num.txt')\n",
    "txt_content = np.loadtxt(num_eq_file, dtype=bytes).astype(str)\n",
    "eq_dates = np.array([dt.strptime(i, '%Y-%m-%d') for i in txt_content[:,0]])\n",
    "eq_num = txt_content[:,1].astype(np.int16)"
   ]
  },
  {
   "cell_type": "code",
   "execution_count": 34,
   "metadata": {},
   "outputs": [
    {
     "name": "stdout",
     "output_type": "stream",
     "text": [
      "save figure to file /Users/yunjunz/Documents/Paper/2019_Kirishima/figs_src/volcano_setting/ts_gps_eq.png\n"
     ]
    },
    {
     "data": {
      "image/png": "[encoded data removed]",
      "text/plain": [
       "<Figure size 540x180 with 2 Axes>"
      ]
     },
     "metadata": {
      "needs_background": "light"
     },
     "output_type": "display_data"
    }
   ],
   "source": [
    "## Fig. 1b - GPS baseline and 1c - number of EQs\n",
    "\n",
    "fig, axs = plt.subplots(nrows=2, ncols=1, figsize=[7.5, 2.5], sharex=True)\n",
    "\n",
    "# GPS\n",
    "ax = axs[0]\n",
    "ax.scatter(gps_dates, gps_lens, marker='.', color='k', s=1**2)\n",
    "ax.set_ylabel('Baseline\\nchange [cm]', fontsize=font_size)\n",
    "\n",
    "# number of earthquakes\n",
    "ax = axs[1]\n",
    "ax.bar(eq_dates + timedelta(days=15), eq_num, width=22, color='k') #shift half a month to display\n",
    "ax.set_ylabel('# of EQs\\nper month', fontsize=font_size)\n",
    "\n",
    "# plot event dates in dashed lines\n",
    "#line_colors = [pp.mplColors[0], pp.mplColors[0], pp.mplColors[1]]\n",
    "for ax in axs:\n",
    "    ymin = -0.2\n",
    "    if ax == axs[-1]:\n",
    "        ymin = 0\n",
    "    for i in range(len(event_dates)):\n",
    "        ax.axvline(x=event_dates[i], ymin=ymin, c=pp.mplColors[1], linestyle='--', linewidth=1, zorder=0, clip_on=False)\n",
    "\n",
    "# axes format\n",
    "for ax in axs:\n",
    "    ax.tick_params(which='both', direction='out', labelsize=font_size, bottom=True, top=True, left=True, right=True)\n",
    "    ax.set_xlim(dt(2005, 12, 25), dt(2012, 1, 5))\n",
    "    ax.xaxis.set_minor_locator(mdates.MonthLocator())\n",
    "    ax.yaxis.set_minor_locator(ticker.AutoMinorLocator())\n",
    "axs[-1].yaxis.set_major_locator(ticker.MultipleLocator(2000))\n",
    "\n",
    "# output\n",
    "out_file = os.path.abspath('ts_gps_eq.png')\n",
    "#plt.savefig(out_file, bbox_inches='tight', transparent=True, dpi=fig_dpi)\n",
    "print('save figure to file', out_file)\n",
    "plt.show()"
   ]
  },
  {
   "cell_type": "code",
   "execution_count": null,
   "metadata": {},
   "outputs": [],
   "source": []
  }
 ],
 "metadata": {
  "kernelspec": {
   "display_name": "Python 3",
   "language": "python",
   "name": "python3"
  },
  "language_info": {
   "codemirror_mode": {
    "name": "ipython",
    "version": 3
   },
   "file_extension": ".py",
   "mimetype": "text/x-python",
   "name": "python",
   "nbconvert_exporter": "python",
   "pygments_lexer": "ipython3",
   "version": "3.6.9"
  }
 },
 "nbformat": 4,
 "nbformat_minor": 2
}
