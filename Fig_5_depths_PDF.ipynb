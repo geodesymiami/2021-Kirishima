{
 "cells": [
  {
   "cell_type": "markdown",
   "metadata": {},
   "source": [
    "## Figure 5 - Distribution of depths of shallow sources at Shinmoe-dake and Iwo-yama"
   ]
  },
  {
   "cell_type": "code",
   "execution_count": 1,
   "metadata": {},
   "outputs": [
    {
     "name": "stdout",
     "output_type": "stream",
     "text": [
      "Go to directory /Users/yunjunz/Documents/Paper/2019_Kirishima/figs_src/depths_PDF\n"
     ]
    }
   ],
   "source": [
    "%matplotlib inline\n",
    "import os\n",
    "from datetime import timedelta, datetime as dt\n",
    "import h5py\n",
    "import numpy as np\n",
    "import scipy.io as sio\n",
    "from matplotlib import pyplot as plt, ticker, dates as mdates\n",
    "from mintpy.utils import ptime, readfile, writefile, utils as ut, plot as pp\n",
    "from mintpy.defaults.plot import *\n",
    "\n",
    "work_dir = os.path.expanduser('~/Documents/Paper/2019_Kirishima/figs_src/depths_PDF')\n",
    "os.chdir(work_dir)\n",
    "print('Go to directory', work_dir)"
   ]
  },
  {
   "cell_type": "code",
   "execution_count": 2,
   "metadata": {},
   "outputs": [
    {
     "name": "stdout",
     "output_type": "stream",
     "text": [
      "Utilities function intiated.\n"
     ]
    }
   ],
   "source": [
    "## Utilities function\n",
    "model_code2name = {\n",
    "    'C' : 'CDMN',\n",
    "    'C2': 'CDM2',\n",
    "    'T' : 'MCTG',\n",
    "}\n",
    "\n",
    "def get_GBIS_mKeep(inv_file, par_name, burning=3e4, blankCells=9999, offset=0, scale=1):\n",
    "    \"\"\" Get the estimation of the parameter\n",
    "    Parameters: inv_file : GBIS inversion result mat file\n",
    "                par_index : index of the parameter, starting from 0\n",
    "                burning : number of iterations to ignore in pdf histogram plot\n",
    "                blankCells : Number of empty cells at the end of mKeep and pKeep\n",
    "                offset : reference height\n",
    "    Returns:    mKeep : 1D np.ndarray of all the estimation of the parameter\n",
    "                optimal : the optional value\n",
    "    \"\"\"\n",
    "    mat = sio.loadmat(inv_file, struct_as_record=False, squeeze_me=True)\n",
    "    par_idx = list(mat['invResults'].model.parName).index(par_name)\n",
    "    mKeep = mat['invResults'].mKeep[par_idx, int(burning):-blankCells]\n",
    "    optimal = mat['invResults'].model.optimal[par_idx]\n",
    "\n",
    "    # if parameter is depth\n",
    "    if 'Depth' in par_name:\n",
    "        mKeep -= offset\n",
    "        mKeep *= -1       # a.s.l.\n",
    "\n",
    "        optimal -= offset\n",
    "        optimal *= -1\n",
    "\n",
    "    mKeep *= scale\n",
    "    optimal *= scale\n",
    "    return mKeep, optimal\n",
    "print('Utilities function intiated.')"
   ]
  },
  {
   "cell_type": "code",
   "execution_count": 6,
   "metadata": {},
   "outputs": [
    {
     "name": "stdout",
     "output_type": "stream",
     "text": [
      "save figure to /Users/yunjunz/Documents/Paper/2019_Kirishima/figs_src/depths_PDF/depths_PDF.png\n"
     ]
    },
    {
     "data": {
      "image/png": "[encoded data removed]",
      "text/plain": [
       "<Figure size 288x216 with 5 Axes>"
      ]
     },
     "metadata": {
      "needs_background": "light"
     },
     "output_type": "display_data"
    }
   ],
   "source": [
    "## plot\n",
    "\n",
    "# inversion result dir\n",
    "inv_res_dir = os.path.expanduser('~/Documents/Paper/2019_Kirishima/figs_src/GBIS')\n",
    "\n",
    "# inversion dataset\n",
    "ds_list = [\n",
    "    'Shinmoe2008post/invert_1_2_C',\n",
    "    'Shinmoe2017pre/invert_1_2_T',\n",
    "    'Iwo2017pre/invert_1_2_C',\n",
    "    'Iwo2017post/invert_1_2_C_C2',\n",
    "]\n",
    "\n",
    "colors = [pp.mplColors[0], pp.mplColors[1], pp.mplColors[2], pp.mplColors[3]]\n",
    "axIdx = [0,2,3,4]\n",
    "\n",
    "fig, axs = plt.subplots(nrows=1, ncols=5, figsize=[4, 3], sharey=True)\n",
    "for i in range(len(ds_list)):\n",
    "    ds_name = ds_list[i]\n",
    "    ax = axs[axIdx[i]]\n",
    "    c = colors[i]\n",
    "\n",
    "    inv_file = ds_name.split('/')[1]\n",
    "    inv_file = os.path.join(inv_res_dir, ds_name, inv_file)\n",
    "    \n",
    "    # read GBIS data\n",
    "    model_code = ds_name.split('invert_1_2_')[1].split('_')[-1]\n",
    "    model_name = model_code2name[model_code]\n",
    "    par_name = '{} Depth'.format(model_name)\n",
    "    \n",
    "    depths, depthO = get_GBIS_mKeep(inv_file, par_name=par_name, burning=3e4, scale=0.001)\n",
    "    dmin = np.nanmean(depths) - 4 * np.nanstd(depths)\n",
    "    dmax = np.nanmean(depths) + 4 * np.nanstd(depths)\n",
    "\n",
    "    # plot\n",
    "    ax.hist(depths, bins=30, range=(dmin, dmax), color='k', orientation='horizontal', density=True)\n",
    "    if ds_name == 'Iwo2017post/invert_1_2_C_C2':\n",
    "        depthO = get_GBIS_mKeep(inv_file, par_name='CDMN Depth', burning=3e4, scale=0.001)[1]\n",
    "        ax.axhline(y=depthO, xmax=0.9, c='k', linestyle='-', linewidth=1)\n",
    "\n",
    "# depths from other literacture\n",
    "ax = axs[1]\n",
    "ax.errorbar(x=0.3, y=0.50, yerr=0.3, fmt='o', fillstyle='full', ms='10', color='k', elinewidth=1, capsize=5)\n",
    "ax.errorbar(x=0.7, y=0.62, yerr=0.5, fmt='o', fillstyle='none', ms='10', color='k', elinewidth=1, capsize=5)\n",
    "ax.set_xlim(0,1)\n",
    "\n",
    "# axis format\n",
    "for ax in axs:\n",
    "    ax.tick_params(which='both', direction='in', labelsize=font_size, bottom=False, top=False, left=True, right=True)\n",
    "    ax.yaxis.set_major_locator(ticker.MultipleLocator(0.200))\n",
    "    #ax.yaxis.set_minor_locator(ticker.MultipleLocator(0.050))\n",
    "    ax.set_xticks([])\n",
    "    ax.set_ylim(0.10, 1.25)\n",
    "axs[0].set_ylabel('Depth [km]', fontsize=font_size)\n",
    "for i in [1,2,4]:    axs[i].tick_params(left=False);\n",
    "for i in [0,1,3]:    axs[i].tick_params(right=False);\n",
    "#axs[-1].tick_params(labelright=True)\n",
    "fig.subplots_adjust(wspace=0.1, left=0.05, right=0.95, top=0.95, bottom=0.05)\n",
    "\n",
    "# output\n",
    "out_file = os.path.abspath('depths_PDF.png')\n",
    "plt.savefig(out_file, bbox_inches='tight', transparent=True, dpi=fig_dpi)\n",
    "print('save figure to', out_file)\n",
    "plt.show()"
   ]
  },
  {
   "cell_type": "code",
   "execution_count": 10,
   "metadata": {},
   "outputs": [
    {
     "name": "stdout",
     "output_type": "stream",
     "text": [
      "save figure to /Users/yunjunz/Documents/Paper/2019_Kirishima/figs_src/depths_PDF/depths_PDF_Shinmoe.png\n"
     ]
    },
    {
     "data": {
      "image/png": "[encoded data removed]",
      "text/plain": [
       "<Figure size 172.8x216 with 3 Axes>"
      ]
     },
     "metadata": {
      "needs_background": "light"
     },
     "output_type": "display_data"
    }
   ],
   "source": [
    "## plot\n",
    "\n",
    "# inversion result dir\n",
    "inv_res_dir = os.path.expanduser('~/Documents/Paper/2019_Kirishima/figs_src/GBIS')\n",
    "\n",
    "# inversion dataset\n",
    "ds_list = [\n",
    "    'Shinmoe2008post/invert_1_2_C',\n",
    "    'Shinmoe2017pre/invert_1_2_T',\n",
    "]\n",
    "\n",
    "colors = [pp.mplColors[0], pp.mplColors[1], pp.mplColors[2], pp.mplColors[3]]\n",
    "axIdx = [0,2]\n",
    "\n",
    "fig, axs = plt.subplots(nrows=1, ncols=3, figsize=[2.4, 3], sharey=True)\n",
    "for i in range(len(ds_list)):\n",
    "    ds_name = ds_list[i]\n",
    "    ax = axs[axIdx[i]]\n",
    "    c = colors[i]\n",
    "\n",
    "    inv_file = ds_name.split('/')[1]\n",
    "    inv_file = os.path.join(inv_res_dir, ds_name, inv_file)\n",
    "    \n",
    "    # read GBIS data\n",
    "    model_code = ds_name.split('invert_1_2_')[1].split('_')[-1]\n",
    "    model_name = model_code2name[model_code]\n",
    "    par_name = '{} Depth'.format(model_name)\n",
    "    \n",
    "    depths, depthO = get_GBIS_mKeep(inv_file, par_name=par_name, burning=3e4, scale=0.001)\n",
    "    dmin = np.nanmean(depths) - 4 * np.nanstd(depths)\n",
    "    dmax = np.nanmean(depths) + 4 * np.nanstd(depths)\n",
    "\n",
    "    # plot\n",
    "    ax.hist(depths, bins=30, range=(dmin, dmax), color='k', orientation='horizontal', density=True)\n",
    "    if ds_name == 'Iwo2017post/invert_1_2_C_C2':\n",
    "        depthO = get_GBIS_mKeep(inv_file, par_name='CDMN Depth', burning=3e4, scale=0.001)[1]\n",
    "        ax.axhline(y=depthO, xmax=0.9, c='k', linestyle='-', linewidth=1)\n",
    "\n",
    "# depths from other literacture\n",
    "ax = axs[1]\n",
    "ax.errorbar(x=0.3, y=0.50, yerr=0.3, fmt='o', fillstyle='full', ms='10', color='k', elinewidth=1, capsize=5)\n",
    "ax.errorbar(x=0.7, y=0.62, yerr=0.5, fmt='o', fillstyle='none', ms='10', color='k', elinewidth=1, capsize=5)\n",
    "ax.set_xlim(0,1)\n",
    "\n",
    "# axis format\n",
    "for ax in axs:\n",
    "    ax.tick_params(which='both', direction='in', labelsize=font_size, bottom=False, top=False, left=True, right=False)\n",
    "    ax.yaxis.set_major_locator(ticker.MultipleLocator(0.200))\n",
    "    #ax.yaxis.set_minor_locator(ticker.MultipleLocator(0.050))\n",
    "    ax.set_xticks([])\n",
    "    ax.set_ylim(0.10, 1.25)\n",
    "axs[0].set_ylabel('Depth [km]', fontsize=font_size)\n",
    "for i in [1,2]:    axs[i].tick_params(left=False);\n",
    "for i in [0,1]:    axs[i].tick_params(right=False);\n",
    "#axs[-1].tick_params(labelright=True)\n",
    "fig.subplots_adjust(wspace=0, left=0.05, right=0.95, top=0.95, bottom=0.05)\n",
    "\n",
    "# output\n",
    "out_file = os.path.abspath('depths_PDF_Shinmoe.png')\n",
    "plt.savefig(out_file, bbox_inches='tight', transparent=True, dpi=fig_dpi)\n",
    "print('save figure to', out_file)\n",
    "plt.show()"
   ]
  },
  {
   "cell_type": "code",
   "execution_count": 14,
   "metadata": {},
   "outputs": [
    {
     "name": "stdout",
     "output_type": "stream",
     "text": [
      "save figure to /Users/yunjunz/Documents/Paper/2019_Kirishima/figs_src/depths_PDF/depths_PDF_Iwo.png\n"
     ]
    },
    {
     "data": {
      "image/png": "[encoded data removed]",
      "text/plain": [
       "<Figure size 115.2x216 with 2 Axes>"
      ]
     },
     "metadata": {},
     "output_type": "display_data"
    }
   ],
   "source": [
    "## plot\n",
    "\n",
    "# inversion result dir\n",
    "inv_res_dir = os.path.expanduser('~/Documents/Paper/2019_Kirishima/figs_src/GBIS')\n",
    "\n",
    "# inversion dataset\n",
    "ds_list = [\n",
    "    'Iwo2017pre/invert_1_2_C',\n",
    "    'Iwo2017post/invert_1_2_C_C2',\n",
    "]\n",
    "\n",
    "colors = [pp.mplColors[0], pp.mplColors[1], pp.mplColors[2], pp.mplColors[3]]\n",
    "axIdx = [0,1]\n",
    "\n",
    "fig, axs = plt.subplots(nrows=1, ncols=2, figsize=[1.6, 3], sharey=True)\n",
    "for i in range(len(ds_list)):\n",
    "    ds_name = ds_list[i]\n",
    "    ax = axs[axIdx[i]]\n",
    "    c = colors[i]\n",
    "\n",
    "    inv_file = ds_name.split('/')[1]\n",
    "    inv_file = os.path.join(inv_res_dir, ds_name, inv_file)\n",
    "    \n",
    "    # read GBIS data\n",
    "    model_code = ds_name.split('invert_1_2_')[1].split('_')[-1]\n",
    "    model_name = model_code2name[model_code]\n",
    "    par_name = '{} Depth'.format(model_name)\n",
    "    \n",
    "    depths, depthO = get_GBIS_mKeep(inv_file, par_name=par_name, burning=3e4, scale=0.001)\n",
    "    dmin = np.nanmean(depths) - 4 * np.nanstd(depths)\n",
    "    dmax = np.nanmean(depths) + 4 * np.nanstd(depths)\n",
    "\n",
    "    # plot\n",
    "    ax.hist(depths, bins=30, range=(dmin, dmax), color='k', orientation='horizontal', density=True)\n",
    "    if ds_name == 'Iwo2017post/invert_1_2_C_C2':\n",
    "        depthO = get_GBIS_mKeep(inv_file, par_name='CDMN Depth', burning=3e4, scale=0.001)[1]\n",
    "        ax.axhline(y=depthO, xmax=0.9, c='k', linestyle='-', linewidth=1)\n",
    "\n",
    "# axis format\n",
    "for ax in axs:\n",
    "    ax.tick_params(which='both', direction='in', labelsize=font_size, bottom=False, top=False, left=True, right=True)\n",
    "    ax.yaxis.set_major_locator(ticker.MultipleLocator(0.200))\n",
    "    #ax.yaxis.set_minor_locator(ticker.MultipleLocator(0.050))\n",
    "    ax.set_xticks([])\n",
    "    ax.set_ylim(0.10, 1.25)\n",
    "#axs[0].set_ylabel('Depth [km]', fontsize=font_size)\n",
    "for i in [1]:    axs[i].tick_params(left=False);\n",
    "for i in [0,1]:    axs[i].tick_params(right=False);\n",
    "axs[0].tick_params(labelleft=False)\n",
    "fig.subplots_adjust(wspace=0, left=0.05, right=0.95, top=0.95, bottom=0.05)\n",
    "\n",
    "# output\n",
    "out_file = os.path.abspath('depths_PDF_Iwo.png')\n",
    "plt.savefig(out_file, bbox_inches='tight', transparent=True, dpi=fig_dpi)\n",
    "print('save figure to', out_file)\n",
    "plt.show()"
   ]
  },
  {
   "cell_type": "code",
   "execution_count": 4,
   "metadata": {},
   "outputs": [
    {
     "name": "stdout",
     "output_type": "stream",
     "text": [
      "save figure to /Users/yunjunz/Documents/Paper/2019_Kirishima/figs_src/depths_PDF/timeline.png\n"
     ]
    },
    {
     "data": {
      "image/png": "[encoded data removed]",
      "text/plain": [
       "<Figure size 432x21.6 with 1 Axes>"
      ]
     },
     "metadata": {
      "needs_background": "light"
     },
     "output_type": "display_data"
    }
   ],
   "source": [
    "fig, ax = plt.subplots(nrows=1, ncols=1, figsize=[6,0.3])\n",
    "\n",
    "ax.set_yticks([])\n",
    "ax.spines['left'].set_visible(False)\n",
    "ax.spines['right'].set_visible(False)\n",
    "ax.spines['top'].set_visible(False)\n",
    "ax.tick_params(which='both', direction='out', rotation=40, labelsize=font_size, bottom=True, top=False, left=False, right=False)\n",
    "ax.set_xlim(dt(2008, 1, 1), dt(2020, 1, 1))\n",
    "\n",
    "# xaxis format\n",
    "ax.fmt_xdata = mdates.DateFormatter('%Y-%m')\n",
    "ax.xaxis.set_major_locator(mdates.YearLocator(1))\n",
    "ax.xaxis.set_major_formatter(mdates.DateFormatter('%Y'))\n",
    "ax.xaxis.set_minor_locator(mdates.MonthLocator(interval=2))\n",
    "\n",
    "# output\n",
    "out_file = os.path.abspath('timeline.png')\n",
    "plt.savefig(out_file, bbox_inches='tight', transparent=True, dpi=fig_dpi)\n",
    "print('save figure to', out_file)\n",
    "plt.show()"
   ]
  },
  {
   "cell_type": "code",
   "execution_count": null,
   "metadata": {},
   "outputs": [],
   "source": []
  }
 ],
 "metadata": {
  "kernelspec": {
   "display_name": "Python 3",
   "language": "python",
   "name": "python3"
  },
  "language_info": {
   "codemirror_mode": {
    "name": "ipython",
    "version": 3
   },
   "file_extension": ".py",
   "mimetype": "text/x-python",
   "name": "python",
   "nbconvert_exporter": "python",
   "pygments_lexer": "ipython3",
   "version": "3.6.9"
  }
 },
 "nbformat": 4,
 "nbformat_minor": 2
}
