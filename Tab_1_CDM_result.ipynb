{
 "cells": [
  {
   "cell_type": "markdown",
   "metadata": {},
   "source": [
    "## Table 1 - Inversion result of CDM\n",
    "\n",
    "Convert the local source coordinates in x/y to lat/lon."
   ]
  },
  {
   "cell_type": "code",
   "execution_count": 1,
   "metadata": {},
   "outputs": [
    {
     "name": "stdout",
     "output_type": "stream",
     "text": [
      "optimal lat / lon: 31.9133 / 130.8843\n"
     ]
    }
   ],
   "source": [
    "import os\n",
    "import pyproj\n",
    "import numpy as np\n",
    "from mintpy.utils import readfile\n",
    "\n",
    "fname = os.path.expanduser('~/insarlab/Kirishima/Model/Shinmoe_2008/invert_1_2_C/ShinmoeAlosAT424_20080929_20100520.h5')\n",
    "atr = readfile.read_attribute(fname)\n",
    "ref_lat, ref_lon = float(atr['CDMN_REF_LAT']), float(atr['CDMN_REF_LON'])\n",
    "geod = pyproj.Geod(ellps='WGS84')\n",
    "\n",
    "print('optimal lat / lon: {:.4f} / {:.4f}'.format(float(atr['CDMN_LAT']), float(atr['CDMN_LON'])))"
   ]
  },
  {
   "cell_type": "code",
   "execution_count": 2,
   "metadata": {},
   "outputs": [
    {
     "name": "stdout",
     "output_type": "stream",
     "text": [
      "2.5% lat / lon: 31.9129 / 130.8839\n"
     ]
    }
   ],
   "source": [
    "# 2.5%\n",
    "x, y = 366, 324\n",
    "lon, lat = geod.fwd(ref_lon, ref_lat, az=np.arctan(x/y) * 180 / np.pi, dist=(x**2+y**2)**0.5, radians=False)[0:2]\n",
    "print('2.5% lat / lon: {:.4f} / {:.4f}'.format(lat, lon))"
   ]
  },
  {
   "cell_type": "code",
   "execution_count": 3,
   "metadata": {},
   "outputs": [
    {
     "name": "stdout",
     "output_type": "stream",
     "text": [
      "97.5% lat / lon: 31.9138 / 130.8847\n"
     ]
    }
   ],
   "source": [
    "# 97.5%\n",
    "x, y = 443, 424\n",
    "lon, lat = geod.fwd(ref_lon, ref_lat, az=np.arctan(x/y) * 180 / np.pi, dist=(x**2+y**2)**0.5, radians=False)[0:2]\n",
    "print('97.5% lat / lon: {:.4f} / {:.4f}'.format(lat, lon))"
   ]
  },
  {
   "cell_type": "code",
   "execution_count": null,
   "metadata": {},
   "outputs": [],
   "source": []
  }
 ],
 "metadata": {
  "kernelspec": {
   "display_name": "Python 3",
   "language": "python",
   "name": "python3"
  },
  "language_info": {
   "codemirror_mode": {
    "name": "ipython",
    "version": 3
   },
   "file_extension": ".py",
   "mimetype": "text/x-python",
   "name": "python",
   "nbconvert_exporter": "python",
   "pygments_lexer": "ipython3",
   "version": "3.6.9"
  }
 },
 "nbformat": 4,
 "nbformat_minor": 2
}
