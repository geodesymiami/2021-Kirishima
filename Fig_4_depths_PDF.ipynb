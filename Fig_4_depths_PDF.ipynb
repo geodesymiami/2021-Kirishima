{
 "cells": [
  {
   "cell_type": "markdown",
   "metadata": {},
   "source": [
    "## Figure 4 (a-b) - Distribution of depths of shallow sources @ Shinmoe-dake"
   ]
  },
  {
   "cell_type": "code",
   "execution_count": 1,
   "metadata": {},
   "outputs": [
    {
     "name": "stdout",
     "output_type": "stream",
     "text": [
      "Go to directory /Users/yunjunz/Papers/2021_Kirishima/figs_src/depths_PDF\n"
     ]
    }
   ],
   "source": [
    "%matplotlib inline\n",
    "import os\n",
    "from datetime import timedelta, datetime as dt\n",
    "import h5py\n",
    "import numpy as np\n",
    "import scipy.io as sio\n",
    "from matplotlib import pyplot as plt, ticker, dates as mdates\n",
    "from mintpy.utils import ptime, readfile, writefile, utils as ut, plot as pp\n",
    "from mintpy.defaults.plot import *\n",
    "\n",
    "work_dir = os.path.expanduser('~/Papers/2021_Kirishima/figs_src/depths_PDF')\n",
    "os.chdir(work_dir)\n",
    "print('Go to directory', work_dir)\n",
    "\n",
    "inv_dir = os.path.expanduser('~/Papers/2021_Kirishima/figs_src/model')"
   ]
  },
  {
   "cell_type": "code",
   "execution_count": 2,
   "metadata": {},
   "outputs": [
    {
     "name": "stdout",
     "output_type": "stream",
     "text": [
      "Utilities function intiated.\n"
     ]
    }
   ],
   "source": [
    "## Utilities function\n",
    "def read_GBIS_depth(inv_file, model_code, burning=3e4, blankCells=9999, unit='km', ref_height=None):\n",
    "    \"\"\" Get the estimation of the parameter\n",
    "    Depth in GBIB is relative to mean sea level with positive downward.\n",
    "\n",
    "    Parameters: inv_file : GBIS inversion result mat file\n",
    "                model_code : index of the parameter, starting from 0\n",
    "                burning : number of iterations to ignore in pdf histogram plot\n",
    "                blankCells : Number of empty cells at the end of mKeep and pKeep\n",
    "                offset : reference height\n",
    "    Returns:    mKeep : 1D np.ndarray of all the estimation of the parameter\n",
    "                optimal : the optional value\n",
    "    \"\"\"\n",
    "    par_name = '{} Depth'.format(model_code2name[model_code])\n",
    "    mat = sio.loadmat(inv_file, struct_as_record=False, squeeze_me=True)\n",
    "    par_idx = list(mat['invResults'].model.parName).index(par_name)\n",
    "    mKeep = mat['invResults'].mKeep[par_idx, int(burning):-blankCells]\n",
    "    optimal = mat['invResults'].model.optimal[par_idx]\n",
    "\n",
    "    ## convert to positive upward\n",
    "    mKeep *= -1\n",
    "    optimal *= -1\n",
    "\n",
    "    if ref_height is not None:\n",
    "        print('read depth with respect to {} m with positive downward'.format(ref_height))\n",
    "        mKeep = ref_height - mKeep\n",
    "        optimal = ref_height - optimal\n",
    "\n",
    "    if unit == 'km':\n",
    "        print('output depth in unit of km')\n",
    "        mKeep *= 0.001\n",
    "        optimal *= 0.001\n",
    "\n",
    "    # stats for plot\n",
    "    dmin = np.nanmean(mKeep) - 4 * np.nanstd(mKeep)\n",
    "    dmax = np.nanmean(mKeep) + 4 * np.nanstd(mKeep)\n",
    "\n",
    "    return mKeep, optimal, dmin, dmax\n",
    "\n",
    "\n",
    "model_code2name = {\n",
    "    'C' : 'CDMN',\n",
    "    'C2': 'CDM2',\n",
    "    'T' : 'MCTG',\n",
    "}\n",
    "\n",
    "print('Utilities function intiated.')"
   ]
  },
  {
   "cell_type": "markdown",
   "metadata": {},
   "source": [
    "### Depth PDF of pressure sources beneath Shinmoe-dake"
   ]
  },
  {
   "cell_type": "code",
   "execution_count": 4,
   "metadata": {},
   "outputs": [
    {
     "name": "stdout",
     "output_type": "stream",
     "text": [
      "read depth with respect to 1421 m with positive downward\n",
      "output depth in unit of km\n",
      "read depth with respect to 1421 m with positive downward\n",
      "output depth in unit of km\n",
      "save figure to /Users/yunjunz/Papers/2020_Kirishima/figs_src/depths_PDF/depths_PDF_Shinmoe.png\n"
     ]
    },
    {
     "data": {
      "image/png": "[encoded data removed]",
      "text/plain": [
       "<Figure size 216x108 with 3 Axes>"
      ]
     },
     "metadata": {
      "needs_background": "light"
     },
     "output_type": "display_data"
    }
   ],
   "source": [
    "## plot\n",
    "refH = 1421  #height of Shinmoe-dake in m\n",
    "inv_files = [os.path.join(inv_dir, i) for i in ['Shinmoe2008post/invert_1_2_C/invert_1_2_C.mat', \n",
    "                                                'Shinmoe2017pre/invert_1_2_T/invert_1_2_T.mat']]\n",
    "ds_names = [os.path.splitext(os.path.basename(i))[0] for i in inv_files]\n",
    "m_codes = [i.split('invert_1_2_')[1].split('_')[-1] for i in ds_names]\n",
    "\n",
    "fig, axs = plt.subplots(nrows=1, ncols=3, figsize=[3, 1.5])\n",
    "# 2008-2010 and 2014-2017\n",
    "for i, ax in enumerate([axs[0], axs[2]]):\n",
    "    depths, depthO, dmin, dmax = read_GBIS_depth(inv_files[i], m_codes[i], burning=3e4, ref_height=refH)\n",
    "    ax.hist(depths, bins=20, range=(dmin, dmax), color=pp.mplColors[i], orientation='horizontal', density=True)\n",
    "# 2011-2013 from other literacture\n",
    "ax = axs[1]\n",
    "kwargs = dict(fmt='o', ms='10', color=pp.mplColors[1], elinewidth=1, capsize=5)\n",
    "ax.errorbar(x=0.2, y=refH/1000-0.500, yerr=0.300, fillstyle='full', **kwargs)\n",
    "ax.errorbar(x=0.6, y=refH/1000-0.620, yerr=0.500, fillstyle='none', **kwargs)\n",
    "ax.set_xlim(0,1)\n",
    "\n",
    "# axis format\n",
    "for ax in axs:\n",
    "    ax.tick_params(which='both', direction='in', labelsize=font_size, bottom=False, top=False, left=True, right=False)\n",
    "    ax.yaxis.set_major_locator(ticker.MultipleLocator(0.500))\n",
    "    ax.set_xticks([])\n",
    "    ax.invert_yaxis()\n",
    "    ax.set_ylim(1.400, 0.200)\n",
    "axs[0].yaxis.set_minor_locator(ticker.MultipleLocator(0.100))\n",
    "axs[0].set_ylabel('depth [km]\\nbelow the summit', fontsize=font_size)\n",
    "for ax in axs[0:2]:\n",
    "    ax.spines['right'].set_visible(False)\n",
    "    ax.tick_params(right=False)\n",
    "for ax in axs[1:3]:\n",
    "    ax.spines['left'].set_visible(False)\n",
    "    ax.tick_params(left=False)\n",
    "    ax.set_yticks([])\n",
    "axs[2].plot((0,0), (0,1), '--', transform=axs[2].transAxes, color='k')\n",
    "fig.subplots_adjust(wspace=0, left=0.05, right=0.95, top=0.95, bottom=0.05)\n",
    "\n",
    "# output\n",
    "out_file = os.path.abspath('depths_PDF_Shinmoe.png')\n",
    "plt.savefig(out_file, bbox_inches='tight', transparent=True, dpi=fig_dpi)\n",
    "print('save figure to', out_file)\n",
    "plt.show()"
   ]
  },
  {
   "cell_type": "markdown",
   "metadata": {},
   "source": [
    "### Depth PDF of pressure sources beneath Iwo-yama"
   ]
  },
  {
   "cell_type": "code",
   "execution_count": 9,
   "metadata": {},
   "outputs": [
    {
     "name": "stdout",
     "output_type": "stream",
     "text": [
      "read depth with respect to 1313 m with positive downward\n",
      "output depth in unit of km\n",
      "read depth with respect to 1313 m with positive downward\n",
      "output depth in unit of km\n",
      "read depth with respect to 1313 m with positive downward\n",
      "output depth in unit of km\n",
      "save figure to /Users/yunjunz/Papers/2020_Kirishima/figs_src/depths_PDF/depths_PDF_Iwo.png\n"
     ]
    },
    {
     "data": {
      "image/png": "[encoded data removed]",
      "text/plain": [
       "<Figure size 144x108 with 2 Axes>"
      ]
     },
     "metadata": {
      "needs_background": "light"
     },
     "output_type": "display_data"
    }
   ],
   "source": [
    "# inversion dataset\n",
    "refH = 1313 #height of Iwo-yama in m\n",
    "inv_files = [os.path.join(inv_dir, i) for i in ['Iwo2017pre/invert_1_2_C/invert_1_2_C.mat', \n",
    "                                                'Iwo2017post/invert_1_2_C_C2/invert_1_2_C_C2.mat']]\n",
    "ds_names = [os.path.splitext(os.path.basename(i))[0] for i in inv_files]\n",
    "m_codes = [i.split('invert_1_2_')[1].split('_')[-1] for i in ds_names]\n",
    "\n",
    "# plot\n",
    "fig, axs = plt.subplots(nrows=1, ncols=2, figsize=[2, 1.5], sharey=True)\n",
    "for i, ax in enumerate(axs):\n",
    "    depths, depthO, dmin, dmax = read_GBIS_depth(inv_files[i], m_codes[i], burning=3e4, ref_height=refH)\n",
    "    ax.hist(depths, bins=20, range=(dmin, dmax), color=pp.mplColors[0], orientation='horizontal', density=True)\n",
    "    if ds_names[i] == 'invert_1_2_C_C2':\n",
    "        depthO = read_GBIS_depth(inv_files[i], 'C', burning=3e4, ref_height=refH)[1]\n",
    "        ax.axhline(y=depthO, xmax=0.9, c=pp.mplColors[0], linestyle='-', linewidth=1)\n",
    "\n",
    "# axis format\n",
    "for ax in axs:\n",
    "    ax.tick_params(which='both', direction='in', labelsize=font_size, bottom=False, top=False, left=True, right=False)\n",
    "    ax.yaxis.set_major_locator(ticker.MultipleLocator(0.200))\n",
    "    ax.set_xticks([])\n",
    "    ax.invert_yaxis()\n",
    "    ax.set_ylim(0.5, 0.0)\n",
    "axs[0].yaxis.set_minor_locator(ticker.MultipleLocator(0.100))\n",
    "axs[0].spines['right'].set_visible(False)\n",
    "#axs[0].tick_params(labelleft=True)\n",
    "axs[1].tick_params(left=False)\n",
    "axs[1].spines['left'].set_visible(False)\n",
    "axs[1].plot((0,0), (0,1), '--', transform=axs[1].transAxes, color='k')\n",
    "fig.subplots_adjust(wspace=0, left=0.05, right=0.95, top=0.95, bottom=0.05)\n",
    "\n",
    "# output\n",
    "out_file = os.path.abspath('depths_PDF_Iwo.png')\n",
    "plt.savefig(out_file, bbox_inches='tight', transparent=True, dpi=fig_dpi)\n",
    "print('save figure to', out_file)\n",
    "plt.show()"
   ]
  },
  {
   "cell_type": "markdown",
   "metadata": {},
   "source": [
    "## Obsolete"
   ]
  },
  {
   "cell_type": "code",
   "execution_count": 52,
   "metadata": {},
   "outputs": [
    {
     "name": "stdout",
     "output_type": "stream",
     "text": [
      "save figure to /Users/yunjunz/Papers/2020_Kirishima/figs_src/depths_PDF/depths_PDF.png\n"
     ]
    },
    {
     "data": {
      "image/png": "[encoded data removed]",
      "text/plain": [
       "<Figure size 72x180 with 3 Axes>"
      ]
     },
     "metadata": {
      "needs_background": "light"
     },
     "output_type": "display_data"
    }
   ],
   "source": [
    "# inversion dataset\n",
    "inv_dir = os.path.expanduser('~/Papers/2020_Kirishima/figs_src/data/GBIS')\n",
    "inv_files = [os.path.join(inv_dir, i) for i in ['Shinmoe2008post/invert_1_2_C/invert_1_2_C.mat', \n",
    "                                                'Shinmoe2017pre/invert_1_2_T/invert_1_2_T.mat']]\n",
    "ds_names = [os.path.splitext(os.path.basename(i))[0] for i in inv_files]\n",
    "m_codes = [i.split('invert_1_2_')[1].split('_')[-1] for i in ds_names]\n",
    "par_names = ['{} Depth'.format(model_code2name[i]) for i in m_codes]\n",
    "\n",
    "# plot\n",
    "fig, ax = plt.subplots(nrows=1, ncols=1, figsize=[1, 2.5], sharey=True)\n",
    "\n",
    "# 1: 2008-2010\n",
    "depthDis, depthOpt, dmin, dmax = read_GBIS_depth(inv_files[0], par_name=par_names[0], burning=3e4, scale=0.001)\n",
    "ax.hist(depthDis, bins=30, range=(dmin, dmax), color=pp.mplColors[0], orientation='horizontal', density=True)\n",
    "xmax = ax.get_xlim()[1]\n",
    "ax.set_xlim(0, 2*xmax)\n",
    "\n",
    "# 2: 2011-2013 from other literacture\n",
    "ax2 = ax.twiny()\n",
    "kwargs = dict(fmt='o', fillstyle='full', ms='10', color=pp.mplColors[1], elinewidth=1, capsize=5)\n",
    "ax2.errorbar(x=0.25, y=0.50, yerr=0.3, **kwargs)\n",
    "ax2.errorbar(x=0.45, y=0.62, yerr=0.5, **kwargs)\n",
    "ax2.set_xlim(0,1)\n",
    "\n",
    "# 3: 2014-2017\n",
    "ax3 = ax.twiny()\n",
    "depthDis, depthOpt, dmin, dmax = read_GBIS_depthread_GBIS_mKeep(inv_files[1], par_name=par_names[1], burning=3e4, scale=0.001)\n",
    "ax3.hist(depthDis, bins=30, range=(dmin, dmax), color=pp.mplColors[1], orientation='horizontal', density=True)\n",
    "xmax = ax3.get_xlim()[1]\n",
    "ax3.set_xlim(-2*xmax, xmax)\n",
    "\n",
    "# axis format\n",
    "for ax in [ax, ax2, ax3]:\n",
    "    ax.tick_params(which='both', direction='in', labelsize=font_size, bottom=False, top=False, left=False, right=True)\n",
    "    ax.set_xticks([])\n",
    "    ax.yaxis.tick_right()\n",
    "    ax.set_ylim(0.10, 1.25)\n",
    "#kwargs = dict(transform=ax3.transAxes, color='k')\n",
    "#ax3.plot((0,0), (0,1), '--', **kwargs)\n",
    "\n",
    "# output\n",
    "out_file = os.path.abspath('depths_PDF.png')\n",
    "plt.savefig(out_file, bbox_inches='tight', transparent=True, dpi=fig_dpi)\n",
    "print('save figure to', out_file)\n",
    "plt.show()"
   ]
  },
  {
   "cell_type": "code",
   "execution_count": 4,
   "metadata": {},
   "outputs": [
    {
     "name": "stdout",
     "output_type": "stream",
     "text": [
      "save figure to /Users/yunjunz/Documents/Paper/2019_Kirishima/figs_src/depths_PDF/timeline.png\n"
     ]
    },
    {
     "data": {
      "image/png": "[encoded data removed]",
      "text/plain": [
       "<Figure size 432x21.6 with 1 Axes>"
      ]
     },
     "metadata": {
      "needs_background": "light"
     },
     "output_type": "display_data"
    }
   ],
   "source": [
    "fig, ax = plt.subplots(nrows=1, ncols=1, figsize=[6,0.3])\n",
    "\n",
    "ax.set_yticks([])\n",
    "ax.spines['left'].set_visible(False)\n",
    "ax.spines['right'].set_visible(False)\n",
    "ax.spines['top'].set_visible(False)\n",
    "ax.tick_params(which='both', direction='out', rotation=40, labelsize=font_size, bottom=True, top=False, left=False, right=False)\n",
    "ax.set_xlim(dt(2008, 1, 1), dt(2020, 1, 1))\n",
    "\n",
    "# xaxis format\n",
    "ax.fmt_xdata = mdates.DateFormatter('%Y-%m')\n",
    "ax.xaxis.set_major_locator(mdates.YearLocator(1))\n",
    "ax.xaxis.set_major_formatter(mdates.DateFormatter('%Y'))\n",
    "ax.xaxis.set_minor_locator(mdates.MonthLocator(interval=2))\n",
    "\n",
    "# output\n",
    "out_file = os.path.abspath('timeline.png')\n",
    "plt.savefig(out_file, bbox_inches='tight', transparent=True, dpi=fig_dpi)\n",
    "print('save figure to', out_file)\n",
    "plt.show()"
   ]
  },
  {
   "cell_type": "code",
   "execution_count": 6,
   "metadata": {},
   "outputs": [
    {
     "name": "stdout",
     "output_type": "stream",
     "text": [
      "save figure to /Users/yunjunz/Documents/Paper/2019_Kirishima/figs_src/depths_PDF/depths_PDF.png\n"
     ]
    },
    {
     "data": {
      "image/png": "[encoded data removed]",
      "text/plain": [
       "<Figure size 288x216 with 5 Axes>"
      ]
     },
     "metadata": {
      "needs_background": "light"
     },
     "output_type": "display_data"
    }
   ],
   "source": [
    "## plot\n",
    "\n",
    "# inversion result dir\n",
    "inv_res_dir = os.path.expanduser('~/Papers/2020_Kirishima/figs_src/data/GBIS')\n",
    "\n",
    "# inversion dataset\n",
    "ds_list = [\n",
    "    'Shinmoe2008post/invert_1_2_C',\n",
    "    'Shinmoe2017pre/invert_1_2_T',\n",
    "    'Iwo2017pre/invert_1_2_C',\n",
    "    'Iwo2017post/invert_1_2_C_C2',\n",
    "]\n",
    "\n",
    "colors = [pp.mplColors[0], pp.mplColors[1], pp.mplColors[2], pp.mplColors[3]]\n",
    "axIdx = [0,2,3,4]\n",
    "\n",
    "fig, axs = plt.subplots(nrows=1, ncols=5, figsize=[4, 3], sharey=True)\n",
    "for i in range(len(ds_list)):\n",
    "    ds_name = ds_list[i]\n",
    "    ax = axs[axIdx[i]]\n",
    "    c = colors[i]\n",
    "\n",
    "    inv_file = ds_name.split('/')[1]\n",
    "    inv_file = os.path.join(inv_res_dir, ds_name, inv_file)\n",
    "    \n",
    "    # read GBIS data\n",
    "    model_code = ds_name.split('invert_1_2_')[1].split('_')[-1]\n",
    "    model_name = model_code2name[model_code]\n",
    "    par_name = '{} Depth'.format(model_name)\n",
    "    \n",
    "    depths, depthO = get_GBIS_mKeep(inv_file, par_name=par_name, burning=3e4, scale=0.001)\n",
    "    dmin = np.nanmean(depths) - 4 * np.nanstd(depths)\n",
    "    dmax = np.nanmean(depths) + 4 * np.nanstd(depths)\n",
    "\n",
    "    # plot\n",
    "    ax.hist(depths, bins=30, range=(dmin, dmax), color='k', orientation='horizontal', density=True)\n",
    "    if ds_name == 'Iwo2017post/invert_1_2_C_C2':\n",
    "        depthO = get_GBIS_mKeep(inv_file, par_name='CDMN Depth', burning=3e4, scale=0.001)[1]\n",
    "        ax.axhline(y=depthO, xmax=0.9, c='k', linestyle='-', linewidth=1)\n",
    "\n",
    "# depths from other literacture\n",
    "ax = axs[1]\n",
    "ax.errorbar(x=0.3, y=0.50, yerr=0.3, fmt='o', fillstyle='full', ms='10', color='k', elinewidth=1, capsize=5)\n",
    "ax.errorbar(x=0.7, y=0.62, yerr=0.5, fmt='o', fillstyle='none', ms='10', color='k', elinewidth=1, capsize=5)\n",
    "ax.set_xlim(0,1)\n",
    "\n",
    "# axis format\n",
    "for ax in axs:\n",
    "    ax.tick_params(which='both', direction='in', labelsize=font_size, bottom=False, top=False, left=True, right=True)\n",
    "    ax.yaxis.set_major_locator(ticker.MultipleLocator(0.200))\n",
    "    #ax.yaxis.set_minor_locator(ticker.MultipleLocator(0.050))\n",
    "    ax.set_xticks([])\n",
    "    ax.set_ylim(0.10, 1.25)\n",
    "axs[0].set_ylabel('Depth [km]', fontsize=font_size)\n",
    "for i in [1,2,4]:    axs[i].tick_params(left=False);\n",
    "for i in [0,1,3]:    axs[i].tick_params(right=False);\n",
    "#axs[-1].tick_params(labelright=True)\n",
    "fig.subplots_adjust(wspace=0.1, left=0.05, right=0.95, top=0.95, bottom=0.05)\n",
    "\n",
    "# output\n",
    "out_file = os.path.abspath('depths_PDF.png')\n",
    "plt.savefig(out_file, bbox_inches='tight', transparent=True, dpi=fig_dpi)\n",
    "print('save figure to', out_file)\n",
    "plt.show()"
   ]
  }
 ],
 "metadata": {
  "kernelspec": {
   "display_name": "Python 3",
   "language": "python",
   "name": "python3"
  },
  "language_info": {
   "codemirror_mode": {
    "name": "ipython",
    "version": 3
   },
   "file_extension": ".py",
   "mimetype": "text/x-python",
   "name": "python",
   "nbconvert_exporter": "python",
   "pygments_lexer": "ipython3",
   "version": "3.7.9"
  }
 },
 "nbformat": 4,
 "nbformat_minor": 4
}
