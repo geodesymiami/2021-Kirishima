{
 "cells": [
  {
   "cell_type": "markdown",
   "metadata": {},
   "source": [
    "## Figure 1a-c. Geological Setting of Kirishima Volcanic Complex\n",
    "\n",
    "Before running the following, prepare DEM in the unit of km and convert from HDF5 to *.grd format using `save_gmt.py`\n",
    "\n",
    "+ [dem.sh](./geo_setting/dem.sh)\n",
    "+ [loc_kyushu.sh](./geo_setting/loc_kyushu.sh)\n",
    "+ [loc_japan.sh](./geo_setting/loc_japan.sh)\n",
    "\n",
    "Useful links:\n",
    "+ GMT Doc: https://docs.generic-mapping-tools.org/5.4/\n",
    "+ Clipping mask in Illustrator: https://helpx.adobe.com/illustrator/using/clipping-masks.html"
   ]
  },
  {
   "cell_type": "code",
   "execution_count": 1,
   "metadata": {},
   "outputs": [
    {
     "name": "stdout",
     "output_type": "stream",
     "text": [
      "Go to directory /Users/yunjunz/Papers/2021_Kirishima/figs_src/geo_setting\n",
      "setenv: Variable name must contain alphanumeric characters.\n",
      "makecpt: Prepare CPT via the master file wiki-2.0\n",
      "makecpt: CPT is discrete\n",
      "grdimage: Read intensity grid header from file topo_i.nc\n",
      "grdimage: The y-coordinates and range attribute are in conflict; must rely on coordinates only\n",
      "grdimage: Guessing of registration in conflict between x and y, using gridline\n",
      "grdimage: Allocates memory and read data file dem_km.grd\n",
      "grdimage: Allocates memory and read intensity file\n",
      "grdimage: project grid files\n",
      "grdimage: gmt_grd_project: Output grid extrema [0.240992/1.73269] exceed extrema of input grid [0.241/1.732] due to resampling\n",
      "grdimage: gmt_grd_project: See option -n+c to clip resampled output range to given input range\n",
      "grdimage: gmt_grd_project: Output grid extrema [-0.944284/0.987548] exceed extrema of input grid [-0.934997/0.95865] due to resampling\n",
      "grdimage: gmt_grd_project: See option -n+c to clip resampled output range to given input range\n",
      "grdimage: Evaluate image pixel colors\n",
      "grdimage: Creating 24-bit color image\n",
      "psscale: Processing input CPT\n",
      "psscale:   CPT range from 0.3 to 1.85\n",
      "PSL: Colormap of 18 colors created\n",
      "psxy: Processing input table data\n",
      "psxy: Processing input table data\n",
      "psxy: Processing input table data\n",
      "psxy: Processing input table data\n",
      "setenv: Variable name must contain alphanumeric characters.\n",
      "pscoast: Extract polygons from DCW - The Digital Chart of the World\n",
      "Using country and state data from gmt-dcw\n",
      "Title  : DCW-GMT - The Digital Chart of the World for the Generic Mapping Tools\n",
      "Source : Processed by the GMT Team, 2018-JUL-01\n",
      "Version: 1.1.4\n",
      "pscoast: Extract data for Japan\n",
      "pscoast: Done\n",
      "psxy: Processing input table data\n",
      "psxy: Processing input table data\n",
      "setenv: Variable name must contain alphanumeric characters.\n",
      "pscoast: Extract polygons from DCW - The Digital Chart of the World\n",
      "Using country and state data from gmt-dcw\n",
      "Title  : DCW-GMT - The Digital Chart of the World for the Generic Mapping Tools\n",
      "Source : Processed by the GMT Team, 2018-JUL-01\n",
      "Version: 1.1.4\n",
      "pscoast: Extract data for Japan\n",
      "pscoast: Done\n",
      "psxy: Processing input table data\n"
     ]
    }
   ],
   "source": [
    "import os\n",
    "work_dir = os.path.expanduser('~/Papers/2021_Kirishima/figs_src/geo_setting')\n",
    "os.chdir(work_dir)\n",
    "print('Go to directory', work_dir)\n",
    "\n",
    "!dem.sh\n",
    "!loc_kyushu.sh\n",
    "!loc_japan.sh"
   ]
  },
  {
   "cell_type": "markdown",
   "metadata": {},
   "source": [
    "<p align=\"left\">\n",
    "  <img width=\"50%\" src=\"https://yunjunzhang.files.wordpress.com/2021/02/dem_kirishima.png\">\n",
    "</p>    "
   ]
  },
  {
   "cell_type": "code",
   "execution_count": null,
   "metadata": {},
   "outputs": [],
   "source": []
  }
 ],
 "metadata": {
  "kernelspec": {
   "display_name": "Python 3",
   "language": "python",
   "name": "python3"
  },
  "language_info": {
   "codemirror_mode": {
    "name": "ipython",
    "version": 3
   },
   "file_extension": ".py",
   "mimetype": "text/x-python",
   "name": "python",
   "nbconvert_exporter": "python",
   "pygments_lexer": "ipython3",
   "version": "3.7.9"
  }
 },
 "nbformat": 4,
 "nbformat_minor": 4
}
