{
 "cells": [
  {
   "cell_type": "markdown",
   "metadata": {},
   "source": [
    "## Figure 6 - The depth PDF of shallow sources at Shinmoe-dake"
   ]
  },
  {
   "cell_type": "code",
   "execution_count": 1,
   "metadata": {},
   "outputs": [
    {
     "name": "stdout",
     "output_type": "stream",
     "text": [
      "Go to directory /Users/yunjunz/Documents/Paper/2019_Kirishima/figs_src/model_PDF\n"
     ]
    }
   ],
   "source": [
    "%matplotlib inline\n",
    "import os\n",
    "import h5py\n",
    "import numpy as np\n",
    "import scipy.io as sio\n",
    "from matplotlib import pyplot as plt, ticker\n",
    "from mintpy.utils import ptime, readfile, writefile, utils as ut, plot as pp\n",
    "from mintpy.defaults.plot import *\n",
    "\n",
    "work_dir = os.path.expanduser('~/Documents/Paper/2019_Kirishima/figs_src/model_PDF')\n",
    "os.chdir(work_dir)\n",
    "print('Go to directory', work_dir)\n",
    "\n",
    "def get_mKeep(inv_file, par_index, burning=1e5, blankCells=9999, offset=695, scale=1):\n",
    "    \"\"\" Get the estimation of the parameter\n",
    "    Parameters: inv_file : GBIS inversion result mat file\n",
    "                par_index : index of the parameter, starting from 0\n",
    "                burning : number of iterations to ignore in pdf histogram plot\n",
    "                blankCells : Number of empty cells at the end of mKeep and pKeep\n",
    "                offset : reference height\n",
    "    Returns:    mKeep : 1D np.ndarray of all the estimation of the parameter\n",
    "                optimal : the optional value\n",
    "    \"\"\"\n",
    "    mat = sio.loadmat(inv_file, struct_as_record=False, squeeze_me=True)\n",
    "    mKeep = mat['invResults'].mKeep[par_index, int(burning):-blankCells]\n",
    "    optimal = mat['invResults'].model.optimal[par_index]\n",
    "\n",
    "    # if parameter is depth\n",
    "    if par_index == 2:\n",
    "        mKeep -= offset\n",
    "        mKeep *= -1       # a.s.l.\n",
    "\n",
    "        optimal -= offset\n",
    "        optimal *= -1\n",
    "\n",
    "    mKeep *= scale\n",
    "    optimal *= scale\n",
    "    return mKeep, optimal\n",
    "\n",
    "## Read data\n",
    "inv_dir_base = os.path.expanduser('~/insarlab/Kirishima/Model')\n",
    "inv_file_pre2017  = os.path.join(inv_dir_base, 'ShinmoePre2017/invert_1_T/invert_1_T.mat')\n",
    "inv_file_post2008 = os.path.join(inv_dir_base, 'ShinmoePost2008/invert_1_2_C/invert_1_2_C.mat')\n",
    "\n",
    "depths_pre2017, depths_pre2017_optimal = get_mKeep(inv_file_pre2017, par_index=2, burning=100000)\n",
    "depths_post2008, depths_post2008_optimal = get_mKeep(inv_file_post2008, par_index=2, burning=10000)"
   ]
  },
  {
   "cell_type": "code",
   "execution_count": 2,
   "metadata": {},
   "outputs": [
    {
     "name": "stdout",
     "output_type": "stream",
     "text": [
      "save figure to /Users/yunjunz/Documents/Paper/2019_Kirishima/figs_src/model_PDF/model_PDF.png\n"
     ]
    },
    {
     "data": {
      "image/png": "[encoded data removed]",
      "text/plain": [
       "<Figure size 216x288 with 1 Axes>"
      ]
     },
     "metadata": {
      "needs_background": "light"
     },
     "output_type": "display_data"
    }
   ],
   "source": [
    "## plot\n",
    "fig, ax = plt.subplots(nrows=1, ncols=1, figsize=[3, 4])\n",
    "for depths, depth_optimal in zip([depths_post2008, depths_pre2017],\n",
    "                                 [depths_post2008_optimal, depths_pre2017_optimal]):\n",
    "    ax.hist(depths, bins=50, alpha=0.8, orientation='horizontal', density=True)\n",
    "    ax.axhline(y=depth_optimal, c='k', linestyle='--', linewidth=1) # plot optimal value\n",
    "\n",
    "# axis format\n",
    "ax.yaxis.set_major_locator(ticker.MultipleLocator(500))\n",
    "ax.yaxis.set_minor_locator(ticker.MultipleLocator(100))\n",
    "ax.tick_params(which='both', direction='in', labelsize=font_size, bottom=True, top=True, left=True, right=True)\n",
    "ax.set_xticklabels([])\n",
    "ax.set_ylim(-1000, 500)\n",
    "ax.set_ylabel('Depth [m]', fontsize=font_size, labelpad=-5) #, y=0.66)\n",
    "\n",
    "# output\n",
    "out_file = os.path.abspath('model_PDF.png')\n",
    "plt.savefig(out_file, bbox_inches='tight', transparent=True, dpi=fig_dpi)\n",
    "print('save figure to', out_file)\n",
    "plt.show()"
   ]
  },
  {
   "cell_type": "code",
   "execution_count": null,
   "metadata": {},
   "outputs": [],
   "source": []
  }
 ],
 "metadata": {
  "kernelspec": {
   "display_name": "Python 3",
   "language": "python",
   "name": "python3"
  },
  "language_info": {
   "codemirror_mode": {
    "name": "ipython",
    "version": 3
   },
   "file_extension": ".py",
   "mimetype": "text/x-python",
   "name": "python",
   "nbconvert_exporter": "python",
   "pygments_lexer": "ipython3",
   "version": "3.6.9"
  }
 },
 "nbformat": 4,
 "nbformat_minor": 2
}
