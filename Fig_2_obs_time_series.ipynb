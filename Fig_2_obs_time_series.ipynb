{
 "cells": [
  {
   "cell_type": "markdown",
   "metadata": {},
   "source": [
    "## Figure 2 - Time Series Observations: Earthquake, GPS, InSAR"
   ]
  },
  {
   "cell_type": "code",
   "execution_count": 1,
   "metadata": {},
   "outputs": [
    {
     "name": "stdout",
     "output_type": "stream",
     "text": [
      "Go to directory /Users/yunjunz/Papers/2020_Kirishima/figs_src/obs\n"
     ]
    }
   ],
   "source": [
    "%matplotlib inline\n",
    "import os\n",
    "import numpy as np\n",
    "from datetime import timedelta, datetime as dt\n",
    "from matplotlib import pyplot as plt, ticker, dates as mdates\n",
    "from mintpy.defaults.plot import *\n",
    "from mintpy.objects.gps import *\n",
    "from mintpy.utils import ptime, readfile, utils as ut, plot as pp\n",
    "\n",
    "work_dir = os.path.expanduser('~/Papers/2020_Kirishima/figs_src/obs')\n",
    "os.chdir(work_dir)\n",
    "print('Go to directory', work_dir)"
   ]
  },
  {
   "cell_type": "markdown",
   "metadata": {},
   "source": [
    "### Read time-series data"
   ]
  },
  {
   "cell_type": "code",
   "execution_count": 84,
   "metadata": {},
   "outputs": [],
   "source": [
    "## Number of EQs\n",
    "num_eq_file = os.path.expanduser('~/Papers/2020_Kirishima/figs_src/data/num_earthquake.csv')\n",
    "fc = np.loadtxt(num_eq_file, delimiter=',', dtype=bytes).astype(str)\n",
    "eq_dates = np.array([dt.strptime(i, '%Y-%m') for i in fc[:,0]])\n",
    "# read number of EQs around Shinmoe-dake and Iwo-yama into eq_num_list\n",
    "eq_num_list = []\n",
    "for i in range(1, fc.shape[1]):\n",
    "    eq_num = fc[:,i]\n",
    "    eq_num[eq_num == ''] = '0'\n",
    "    eq_num = eq_num.astype(np.float32)\n",
    "    eq_num[eq_num == 0] = np.nan\n",
    "    eq_num_list.append(eq_num)\n",
    "\n",
    "\n",
    "## GPS baseline change\n",
    "gps_dir = os.path.expanduser('~/data/Kirishima/GPS/GSI_F3')\n",
    "t0, t1 = '20070101', '20191001'\n",
    "site1, sites = '950486', '960714'\n",
    "dates1, x1, y1, z1 = read_GSI_F3(gps_dir, '950486', t0, t1)\n",
    "dates2, x2, y2, z2 = read_GSI_F3(gps_dir, '960714', t0, t1)\n",
    "gps_dates, gps_lens = get_baseline_change(dates1, x1, y1, z1, dates2, x2, y2, z2)\n",
    "## start from zero\n",
    "#idx = gps_dates.index(dt(2005, 12, 15, 12, 0))\n",
    "#gps_lens -= gps_lens[idx]"
   ]
  },
  {
   "cell_type": "markdown",
   "metadata": {},
   "source": [
    "### Utilities Functions"
   ]
  },
  {
   "cell_type": "code",
   "execution_count": 176,
   "metadata": {},
   "outputs": [
    {
     "name": "stdout",
     "output_type": "stream",
     "text": [
      "Utilities functions initiated.\n"
     ]
    }
   ],
   "source": [
    "## Utilities function for point time-series\n",
    "def read_point_displacement_timeseries(ts_file, pts_lalo):\n",
    "    dates, dis_ts = ut.read_timeseries_lalo(pts_lalo[0], pts_lalo[1], ts_file, unit='cm', print_msg=False)\n",
    "    dis_ts -= dis_ts[0]\n",
    "    ex_date_txt = os.path.join(os.path.dirname(ts_file), 'exclude_date.txt')\n",
    "    ex_dates = ptime.date_list2vector(ptime.read_date_list(ex_date_txt))[0]\n",
    "    idx_ex = [dates.tolist().index(di) for di in dates if di in ex_dates]\n",
    "    idx_kp = [dates.tolist().index(di) for di in dates if di not in ex_dates]\n",
    "    return dis_ts, dates, idx_kp, idx_ex\n",
    "\n",
    "def plot_point_displacement_timeseries(ax, ts_file, pts_lalo, offset=0, marker='^', label=None):\n",
    "    if marker == '^':\n",
    "        ms = 3\n",
    "    else:\n",
    "        ms = 2.5\n",
    "    dis_ts, dates, idx_kp, idx_ex = read_point_displacement_timeseries(ts_file, pts_lalo)\n",
    "    ax.scatter(dates[idx_ex], dis_ts[idx_ex] + offset, marker=marker, edgecolor='k', facecolors='none', s=ms**3, linewidths=0.5)\n",
    "    ax.scatter(dates[idx_kp], dis_ts[idx_kp] + offset, marker=marker, edgecolor='k', facecolors='k', s=ms**3, linewidths=0.5, label=label)\n",
    "    pp.auto_adjust_xaxis_date(ax, dates, every_year=1, buffer_year=0.3)\n",
    "    return ax\n",
    "\n",
    "def plot_date_of_interest(axs, y1max=1, y2min=0):\n",
    "    \"\"\"Plot the date(s) of interest for Kirishima volcano\"\"\"\n",
    "    kwargs = dict(linewidth=2, zorder=0, clip_on=False, alpha=0.3)\n",
    "\n",
    "    # Phreatic eruptions in Shinmoe-dake\n",
    "    kwargs.update(linestyle='--', color=pp.mplColors[0])\n",
    "    axs[0].axvline(x   =dt(2008, 8, 22), ymax=y1max, **kwargs)\n",
    "    axs[0].axvspan(xmin=dt(2010, 3, 31), xmax=dt(2010, 7, 10), ymax=y1max, **kwargs)\n",
    "    \n",
    "    # Magmatic eruptions in Shinmoe-dake\n",
    "    kwargs.update(linestyle='--', color=pp.mplColors[1])\n",
    "    axs[1].axvline(x   =dt(2017, 10, 11), ymax=y1max, **kwargs)\n",
    "    axs[0].axvspan(xmin=dt(2011, 1 , 19), xmax=dt(2011, 9, 7 ), ymax=y1max, **kwargs)\n",
    "    axs[1].axvspan(xmin=dt(2018, 3 , 1 ), xmax=dt(2018, 6, 27), ymax=y1max, **kwargs)\n",
    "    \n",
    "    # Phreatic eruptions in Iwo-yama\n",
    "    kwargs.update(linestyle='-', color=pp.mplColors[0], alpha=0.8)\n",
    "    axs[1].axvline(x=dt(2018, 4, 19), ymin=y2min, **kwargs)\n",
    "    return\n",
    "\n",
    "\n",
    "def cut_along_xaxis(axs, figsize=[7, 1], width_ratio=[4, 5], ax2s=None):\n",
    "    \"\"\"Cut and hide part of the plot along x-axis\"\"\"\n",
    "    axs[0].set_xlim(dt(2007, 9,  7), dt(2011,  9, 7))   # 4 years\n",
    "    axs[1].set_xlim(dt(2014, 11, 5), dt(2019, 11, 5))  # 5 years\n",
    "\n",
    "    # hide the spines between two axis\n",
    "    axs[0].spines['right'].set_visible(False)\n",
    "    axs[1].spines['left'].set_visible(False)\n",
    "    axs[0].yaxis.tick_left()\n",
    "    if ax2s is None:\n",
    "        axs[1].yaxis.tick_right()\n",
    "\n",
    "    # hide the spines between two axis for ax2\n",
    "    if ax2s is not None:\n",
    "        ax2s[0].set_yticks([])\n",
    "        ax2s[0].spines['right'].set_visible(False)\n",
    "        ax2s[1].spines['left'].set_visible(False)\n",
    "        # turn off yticks on the right\n",
    "        #axs[1].yaxis.tick_left()\n",
    "\n",
    "    # plot diagonal lines in axes coordinates\n",
    "    dx = 0.008\n",
    "    dy = dx * figsize[0] / figsize[1]\n",
    "    kwargs = dict(transform=axs[0].transAxes, color='k', clip_on=False)\n",
    "    axs[0].plot((1-dx, 1+dx), ( -dy,  +dy), **kwargs)\n",
    "    axs[0].plot((1-dx, 1+dx), (1-dy, 1+dy), **kwargs)\n",
    "\n",
    "    dx *= (width_ratio[0] / width_ratio[1])\n",
    "    kwargs.update(transform=axs[1].transAxes)\n",
    "    axs[1].plot(( -dx,  +dx), ( -dy,  +dy), **kwargs)\n",
    "    axs[1].plot(( -dx,  +dx), (1-dy, 1+dy), **kwargs)\n",
    "    return\n",
    "\n",
    "width_ratio = [4, 5]\n",
    "print('Utilities functions initiated.')"
   ]
  },
  {
   "cell_type": "markdown",
   "metadata": {},
   "source": [
    "### (a) - Number of earthquakes @ Shinmoe-dake and Iwo-yama"
   ]
  },
  {
   "cell_type": "code",
   "execution_count": 205,
   "metadata": {
    "scrolled": true
   },
   "outputs": [
    {
     "name": "stdout",
     "output_type": "stream",
     "text": [
      "save figure to file /Users/yunjunz/Papers/2020_Kirishima/figs_src/obs/ts_eq.png\n"
     ]
    },
    {
     "data": {
      "image/png": "[encoded data removed]",
      "text/plain": [
       "<Figure size 504x108 with 4 Axes>"
      ]
     },
     "metadata": {
      "needs_background": "light"
     },
     "output_type": "display_data"
    }
   ],
   "source": [
    "figsize = [7, 1.5]\n",
    "fig, axs = plt.subplots(nrows=1, ncols=2, figsize=figsize, sharey=True, gridspec_kw={'width_ratios': width_ratio})\n",
    "ax2s = []\n",
    "for ax in axs:\n",
    "    #shift half a month to display the monthly average value in the center.\n",
    "    ax.bar(eq_dates + timedelta(days=15), eq_num_list[0]/1000., width=22, color='k')\n",
    "    ax.set_ylim(0, 10)\n",
    "\n",
    "    ax2 = ax.twinx()\n",
    "    ax2.bar(eq_dates + timedelta(days=15), eq_num_list[1]/1000., width=22, color='k')\n",
    "    ax2.set_ylim(-1.8, 1.2)\n",
    "    ax2s.append(ax2)\n",
    "\n",
    "# Eruptive dates\n",
    "plot_date_of_interest(axs, y1max=0.55, y2min=0.65)\n",
    "\n",
    "# axes format\n",
    "for ax in axs:\n",
    "    #ax.tick_params(which='both', direction='in', labelsize=font_size, bottom=True, top=True, left=True, right=True)\n",
    "    ax.xaxis.set_major_locator(mdates.YearLocator(1))\n",
    "    ax.xaxis.set_major_formatter(mdates.DateFormatter('%Y'))\n",
    "    ax.xaxis.set_minor_locator(mdates.MonthLocator(interval=2))\n",
    "    ax.set_xticklabels([])\n",
    "\n",
    "axs[0].tick_params( which='both', direction='in', labelsize=font_size, bottom=True, top=True, left=True, right=False)\n",
    "axs[1].tick_params( which='both', direction='in', labelsize=font_size, bottom=True, top=True, left=False, right=False)\n",
    "ax2s[0].tick_params(which='both', direction='in', labelsize=font_size, bottom=True, top=True, left=False, right=False)\n",
    "ax2s[1].tick_params(which='both', direction='in', labelsize=font_size, bottom=True, top=True, left=False, right=True)\n",
    "\n",
    "axs[0].yaxis.set_major_locator( ticker.FixedLocator([0,3,6]))\n",
    "axs[0].yaxis.set_minor_locator( ticker.FixedLocator(np.linspace(0,6,7)))\n",
    "ax2s[1].yaxis.set_major_locator(ticker.FixedLocator([0,1]))\n",
    "ax2s[1].yaxis.set_minor_locator(ticker.FixedLocator(np.linspace(0,1,6)))\n",
    "fig.subplots_adjust(wspace=0.05, left=0.05, right=0.95, top=0.95, bottom=0.05)\n",
    "\n",
    "# Cut along x-axis\n",
    "cut_along_xaxis(axs, figsize=figsize, ax2s=ax2s)\n",
    "\n",
    "# output\n",
    "out_file = os.path.abspath('ts_eq.png')\n",
    "plt.savefig(out_file, bbox_inches='tight', transparent=True, dpi=fig_dpi)\n",
    "print('save figure to file', out_file)\n",
    "plt.show()"
   ]
  },
  {
   "cell_type": "code",
   "execution_count": 187,
   "metadata": {},
   "outputs": [
    {
     "name": "stdout",
     "output_type": "stream",
     "text": [
      "save figure to file /Users/yunjunz/Papers/2020_Kirishima/figs_src/obs/ts_eq_Shinmoe.png\n"
     ]
    },
    {
     "data": {
      "image/png": "[encoded data removed]",
      "text/plain": [
       "<Figure size 504x72 with 2 Axes>"
      ]
     },
     "metadata": {
      "needs_background": "light"
     },
     "output_type": "display_data"
    }
   ],
   "source": [
    "figsize = [7, 1]\n",
    "fig, axs = plt.subplots(nrows=1, ncols=2, figsize=figsize, sharey=True, gridspec_kw={'width_ratios': width_ratio})\n",
    "for ax in axs:\n",
    "    #shift half a month to display the monthly average value in the center.\n",
    "    ax.bar(eq_dates + timedelta(days=15), eq_num_list[0]/1000., width=22, color='k') \n",
    "\n",
    "# Eruptive dates\n",
    "plot_date_of_interest(axs)\n",
    "\n",
    "# axes format\n",
    "for ax in axs:\n",
    "    ax.tick_params(which='both', direction='in', labelsize=font_size, bottom=True, top=True, left=True, right=True)\n",
    "    ax.xaxis.set_major_locator(mdates.YearLocator(1))\n",
    "    ax.xaxis.set_major_formatter(mdates.DateFormatter('%Y'))\n",
    "    ax.xaxis.set_minor_locator(mdates.MonthLocator(interval=2))\n",
    "    ax.yaxis.set_minor_locator(ticker.AutoMinorLocator(2))\n",
    "    ax.yaxis.set_major_locator(ticker.MultipleLocator(2))\n",
    "    ax.set_xticklabels([])\n",
    "    ax.set_ylim(0,5.5)\n",
    "fig.subplots_adjust(wspace=0.05, left=0.05, right=0.95, top=0.95, bottom=0.05)\n",
    "\n",
    "# Cut along x-axis\n",
    "cut_along_xaxis(axs, figsize=figsize)\n",
    "\n",
    "# output\n",
    "out_file = os.path.abspath('ts_eq_Shinmoe.png')\n",
    "plt.savefig(out_file, bbox_inches='tight', transparent=True, dpi=fig_dpi)\n",
    "print('save figure to file', out_file)\n",
    "plt.show()"
   ]
  },
  {
   "cell_type": "code",
   "execution_count": 188,
   "metadata": {},
   "outputs": [
    {
     "name": "stdout",
     "output_type": "stream",
     "text": [
      "save figure to file /Users/yunjunz/Papers/2020_Kirishima/figs_src/obs/ts_eq_Iwo.png\n"
     ]
    },
    {
     "data": {
      "image/png": "[encoded data removed]",
      "text/plain": [
       "<Figure size 504x72 with 2 Axes>"
      ]
     },
     "metadata": {
      "needs_background": "light"
     },
     "output_type": "display_data"
    }
   ],
   "source": [
    "figsize = [7, 1]\n",
    "fig, axs = plt.subplots(nrows=1, ncols=2, figsize=figsize, sharey=True, gridspec_kw={'width_ratios': width_ratio})\n",
    "for ax in axs:\n",
    "    #shift half a month to display the monthly average value in the center.\n",
    "    ax.bar(eq_dates + timedelta(days=15), eq_num_list[1]/1000., width=22, color='k') \n",
    "\n",
    "# Eruptive dates\n",
    "plot_date_of_interest(axs)\n",
    "\n",
    "# axes format\n",
    "for ax in axs:\n",
    "    ax.tick_params(which='both', direction='in', labelsize=font_size, bottom=True, top=True, left=True, right=True)\n",
    "    ax.xaxis.set_major_locator(mdates.YearLocator(1))\n",
    "    ax.xaxis.set_major_formatter(mdates.DateFormatter('%Y'))\n",
    "    ax.xaxis.set_minor_locator(mdates.MonthLocator(interval=2))\n",
    "    ax.yaxis.set_minor_locator(ticker.AutoMinorLocator())\n",
    "    ax.yaxis.set_major_locator(ticker.MultipleLocator(1))\n",
    "    ax.set_xticklabels([])\n",
    "    ax.set_ylim(0,1.1)\n",
    "fig.subplots_adjust(wspace=0.05, left=0.05, right=0.95, top=0.95, bottom=0.05)\n",
    "\n",
    "# Cut along x-axis\n",
    "cut_along_xaxis(axs, figsize=figsize)\n",
    "\n",
    "# output\n",
    "out_file = os.path.abspath('ts_eq_Iwo.png')\n",
    "plt.savefig(out_file, bbox_inches='tight', transparent=True, dpi=fig_dpi)\n",
    "print('save figure to file', out_file)\n",
    "plt.show()"
   ]
  },
  {
   "cell_type": "markdown",
   "metadata": {},
   "source": [
    "### (b) GPS baseline change"
   ]
  },
  {
   "cell_type": "code",
   "execution_count": 189,
   "metadata": {},
   "outputs": [
    {
     "name": "stdout",
     "output_type": "stream",
     "text": [
      "save figure to file /Users/yunjunz/Papers/2020_Kirishima/figs_src/obs/ts_gps.png\n"
     ]
    },
    {
     "data": {
      "image/png": "[encoded data removed]",
      "text/plain": [
       "<Figure size 504x72 with 2 Axes>"
      ]
     },
     "metadata": {
      "needs_background": "light"
     },
     "output_type": "display_data"
    }
   ],
   "source": [
    "figsize = [7, 1]\n",
    "fig, axs = plt.subplots(nrows=1, ncols=2, figsize=figsize, sharey=True, gridspec_kw={'width_ratios': width_ratio})\n",
    "for ax in axs:\n",
    "    ax.scatter(gps_dates, gps_lens*100., marker='.', color='k', s=1**2)\n",
    "\n",
    "# Eruptive dates\n",
    "plot_date_of_interest(axs)\n",
    "\n",
    "# axes format\n",
    "for ax in axs:\n",
    "    ax.tick_params(which='both', direction='in', labelsize=font_size, bottom=True, top=True, left=True, right=True)\n",
    "    ax.xaxis.set_major_locator(mdates.YearLocator(1))\n",
    "    ax.xaxis.set_major_formatter(mdates.DateFormatter('%Y'))\n",
    "    ax.xaxis.set_minor_locator(mdates.MonthLocator(interval=2))\n",
    "    ax.yaxis.set_minor_locator(ticker.MultipleLocator(1))\n",
    "    ax.yaxis.set_major_locator(ticker.MultipleLocator(3))\n",
    "    ax.set_xticklabels([])\n",
    "    ax.set_ylim(-2.2, 5.2)\n",
    "fig.subplots_adjust(wspace=0.05, left=0.05, right=0.95, top=0.95, bottom=0.05)\n",
    "\n",
    "# Cut along x-axis\n",
    "cut_along_xaxis(axs, figsize=figsize)\n",
    "\n",
    "# output\n",
    "out_file = os.path.abspath('ts_gps.png')\n",
    "plt.savefig(out_file, bbox_inches='tight', transparent=True, dpi=fig_dpi)\n",
    "print('save figure to file', out_file)\n",
    "plt.show()"
   ]
  },
  {
   "cell_type": "markdown",
   "metadata": {},
   "source": [
    "### (f) InSAR LOS displacement"
   ]
  },
  {
   "cell_type": "code",
   "execution_count": 199,
   "metadata": {},
   "outputs": [
    {
     "name": "stdout",
     "output_type": "stream",
     "text": [
      "save figure to file /Users/yunjunz/Papers/2020_Kirishima/figs_src/obs/ts_insar.png\n"
     ]
    },
    {
     "data": {
      "image/png": "[encoded data removed]",
      "text/plain": [
       "<Figure size 504x216 with 2 Axes>"
      ]
     },
     "metadata": {
      "needs_background": "light"
     },
     "output_type": "display_data"
    }
   ],
   "source": [
    "## Shinmoe-dake\n",
    "ts_file1 = os.path.expanduser('~/data/Kirishima/KirishimaAlosDT73/mintpyAll/timeseries_ERA5_ramp_demErr.h5')\n",
    "ts_file2 = os.path.expanduser('~/data/Kirishima/KirishimaAlos2DT23/mintpyAll/timeseries_ERA5_ramp_demErr.h5')\n",
    "\n",
    "## Points of Interest\n",
    "lalo_list = [\n",
    "    [31.9131, 130.8867],  #POI for AlosDT73 at Shinmoe\n",
    "    [31.9113, 130.8774],  #[31.9098, 130.8869],   #POI for Alos2DT23 at Shinmoe\n",
    "    #[31.9467, 130.8524],  #POI for Alos2DT23 at Iwo for Alos2AT131\n",
    "    [31.9465, 130.8531], #POI for Alos2DT23 at Iwo for Alos2DT23\n",
    "    [31.9450, 130.8528],  #[31.9467, 130.8504], #POI for Alos2DT23 at Iwo for Alos2DT23 for post Dec 2017 expansion     \n",
    "]\n",
    "\n",
    "figsize = [7, 3]\n",
    "fig, axs = plt.subplots(nrows=1, ncols=2, figsize=figsize, sharey=True, gridspec_kw={'width_ratios': width_ratio})\n",
    "#------ Displacement time-series\n",
    "for ax in axs:\n",
    "    # Shinmoe-dake\n",
    "    plot_point_displacement_timeseries(ax, ts_file1, lalo_list[0], offset=-20)\n",
    "    plot_point_displacement_timeseries(ax, ts_file2, lalo_list[1], offset=-25)\n",
    "    # Iwo-yama crater\n",
    "    plot_point_displacement_timeseries(ax, ts_file1, lalo_list[2], offset=0)\n",
    "    plot_point_displacement_timeseries(ax, ts_file2, lalo_list[2], offset=0)\n",
    "    # Iwo-yama south vent\n",
    "    plot_point_displacement_timeseries(ax, ts_file1, lalo_list[3], offset=-10)\n",
    "    plot_point_displacement_timeseries(ax, ts_file2, lalo_list[3], offset=-10)\n",
    "\n",
    "#------ Eruptive dates\n",
    "plot_date_of_interest(axs, y1max=0.24, y2min=0.28)\n",
    "\n",
    "#------- axes format\n",
    "for ax in axs:\n",
    "    ax.tick_params(which='both', direction='in', labelsize=font_size, bottom=True, top=True, left=True, right=True)\n",
    "    ax.set_ylim([-27, 22])\n",
    "    ax.xaxis.set_major_locator(mdates.YearLocator(1))\n",
    "    ax.xaxis.set_major_formatter(mdates.DateFormatter('%Y'))\n",
    "    ax.xaxis.set_minor_locator(mdates.MonthLocator(interval=2))\n",
    "    ax.yaxis.set_minor_locator(ticker.AutoMinorLocator())\n",
    "    ax.yaxis.set_major_locator(ticker.MultipleLocator(10))\n",
    "fig.subplots_adjust(wspace=0.05, left=0.05, right=0.95, top=0.95, bottom=0.05)\n",
    "\n",
    "#----- Cut along x-axis\n",
    "cut_along_xaxis(axs, figsize=figsize)\n",
    "\n",
    "#----- output\n",
    "out_file = os.path.abspath('ts_insar.png')\n",
    "#plt.savefig(out_file, bbox_inches='tight', transparent=True, dpi=fig_dpi)\n",
    "print('save figure to file', out_file)\n",
    "plt.show()"
   ]
  },
  {
   "cell_type": "code",
   "execution_count": null,
   "metadata": {},
   "outputs": [],
   "source": []
  }
 ],
 "metadata": {
  "kernelspec": {
   "display_name": "Python 3",
   "language": "python",
   "name": "python3"
  },
  "language_info": {
   "codemirror_mode": {
    "name": "ipython",
    "version": 3
   },
   "file_extension": ".py",
   "mimetype": "text/x-python",
   "name": "python",
   "nbconvert_exporter": "python",
   "pygments_lexer": "ipython3",
   "version": "3.6.7"
  }
 },
 "nbformat": 4,
 "nbformat_minor": 2
}
