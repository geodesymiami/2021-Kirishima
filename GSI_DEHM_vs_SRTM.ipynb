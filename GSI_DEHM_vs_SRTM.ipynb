{
 "cells": [
  {
   "cell_type": "code",
   "execution_count": 1,
   "metadata": {},
   "outputs": [
    {
     "name": "stdout",
     "output_type": "stream",
     "text": [
      "Go to directory: /Users/yunjunz/data/archives/Kirishima/DEM\n"
     ]
    }
   ],
   "source": [
    "%matplotlib inline\n",
    "import os\n",
    "import numpy as np\n",
    "from matplotlib import pyplot as plt\n",
    "from skimage.transform import resize\n",
    "from mintpy.utils import readfile\n",
    "plt.rcParams.update({'font.size': 12})\n",
    "\n",
    "work_dir = os.path.expanduser('~/data/archives/Kirishima/DEM')\n",
    "os.chdir(work_dir)\n",
    "print('Go to directory:', work_dir)"
   ]
  },
  {
   "cell_type": "code",
   "execution_count": 5,
   "metadata": {},
   "outputs": [],
   "source": [
    "# read data\n",
    "srtm_geoid_file = os.path.join(work_dir, 'srtm30m.dem')\n",
    "srtm_ellip_file = os.path.join(work_dir, 'srtm30m.dem.wgs84')\n",
    "gsi1_file       = os.path.join(work_dir, 'gsi10m.dem.wgs84')\n",
    "dem_srtm_geoid = readfile.read(srtm_geoid_file)[0].astype(np.float32)\n",
    "dem_srtm_ellip = readfile.read(srtm_ellip_file)[0].astype(np.float32)\n",
    "dem_gsi1       = readfile.read(gsi1_file)[0].astype(np.float32)\n",
    "\n",
    "# resample GSI DEHM to the same resolution as the SRTM\n",
    "dem_gsi3 = resize(dem_gsi1, dem_srtm_ellip.shape, order=1, mode='constant', anti_aliasing=True, preserve_range=True)\n",
    "# mask out pixels on the water\n",
    "water_body = dem_gsi3 == 0\n",
    "dem_gsi3[water_body] = np.nan\n",
    "dem_srtm_geoid[water_body] = np.nan\n",
    "dem_srtm_ellip[water_body] = np.nan"
   ]
  },
  {
   "cell_type": "code",
   "execution_count": 19,
   "metadata": {},
   "outputs": [
    {
     "name": "stdout",
     "output_type": "stream",
     "text": [
      "save figure to file /Users/yunjunz/data/archives/Kirishima/DEM/hist_DEHM_vs_SRTM.png\n"
     ]
    },
    {
     "data": {
      "image/png": "[encoded data removed]",
      "text/plain": [
       "<Figure size 504x216 with 2 Axes>"
      ]
     },
     "metadata": {
      "needs_background": "light"
     },
     "output_type": "display_data"
    }
   ],
   "source": [
    "fig, axs = plt.subplots(nrows=1, ncols=2, figsize=[7, 3], sharey=True)\n",
    "axs[0].hist((dem_gsi3 - dem_srtm_geoid).flatten(), bins=100, range=(-40, 60), density=True)\n",
    "axs[1].hist((dem_gsi3 - dem_srtm_ellip).flatten(), bins=100, range=(-40, 60), density=True)\n",
    "\n",
    "# axis format\n",
    "for ax, title in zip(axs, ['GSI DEHM vs. SRTM (geoid)', 'GSI DEHM vs. SRTM (ellipsoid)']):\n",
    "    ax.tick_params(which='both', direction='in', bottom=True, top=True, left=True, right=True)\n",
    "    ax.set_xlabel('elevation difference [m]')\n",
    "    ax.set_title(title)\n",
    "\n",
    "fig.tight_layout()\n",
    "\n",
    "# output\n",
    "out_fig = os.path.abspath('hist_DEHM_vs_SRTM.png')\n",
    "plt.savefig(out_fig, bbox_inches='tight', transparent=True, dpi=600)\n",
    "print('save figure to file', out_fig)\n",
    "plt.show()"
   ]
  },
  {
   "cell_type": "code",
   "execution_count": null,
   "metadata": {},
   "outputs": [],
   "source": []
  }
 ],
 "metadata": {
  "kernelspec": {
   "display_name": "Python 3",
   "language": "python",
   "name": "python3"
  },
  "language_info": {
   "codemirror_mode": {
    "name": "ipython",
    "version": 3
   },
   "file_extension": ".py",
   "mimetype": "text/x-python",
   "name": "python",
   "nbconvert_exporter": "python",
   "pygments_lexer": "ipython3",
   "version": "3.7.9"
  }
 },
 "nbformat": 4,
 "nbformat_minor": 4
}
