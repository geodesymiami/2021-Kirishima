{
 "cells": [
  {
   "cell_type": "code",
   "execution_count": 10,
   "metadata": {},
   "outputs": [
    {
     "name": "stdout",
     "output_type": "stream",
     "text": [
      "Go to directory /Users/yunjunz/insarlab/Kirishima/KirishimaModel/DATA/AlosAT424\n",
      "read 20110220 from file ../../../KirishimaAlosAT424/PYSAR/timeseries_ECMWF_ramp_demErr.h5\n",
      "read 20101120 from file ../../../KirishimaAlosAT424/PYSAR/timeseries_ECMWF_ramp_demErr.h5\n",
      "converting range to phase\n",
      "write 20101120_20110220.unw\n",
      "write 20101120_20110220.unw.rsc\n",
      "read coherence-20101120_20110220 from file ../../../KirishimaAlosAT424/PYSAR/INPUTS/ifgramStack.h5\n",
      "write 20101120_20110220.cor\n",
      "write 20101120_20110220.cor.rsc\n",
      "read height from file ../../../KirishimaAlosAT424/PYSAR/INPUTS/geometryGeo.h5\n",
      "write ../DEM/gsi.dem\n",
      "write ../DEM/gsi.dem.rsc\n"
     ]
    }
   ],
   "source": [
    "## prepare PySAR data for GeodMod\n",
    "import os\n",
    "work_dir = os.path.expanduser('~/insarlab/Kirishima/KirishimaModel/DATA/AlosAT424')\n",
    "if not os.path.isdir(work_dir):\n",
    "    os.makedirs(work_dir)\n",
    "os.chdir(work_dir)\n",
    "print('Go to directory', work_dir)\n",
    "\n",
    "!save_roipac.py ../../../KirishimaAlosAT424/PYSAR/timeseries_ECMWF_ramp_demErr.h5 20110220 --ref-date 20101120 -o 20101120_20110220.unw\n",
    "!save_roipac.py ../../../KirishimaAlosAT424/PYSAR/INPUTS/ifgramStack.h5 coherence-20101120_20110220 -o 20101120_20110220.cor\n",
    "!save_roipac.py ../../../KirishimaAlosAT424/PYSAR/INPUTS/geometryGeo.h5 height -o ../DEM/gsi.dem"
   ]
  },
  {
   "cell_type": "code",
   "execution_count": null,
   "metadata": {},
   "outputs": [],
   "source": []
  }
 ],
 "metadata": {
  "kernelspec": {
   "display_name": "Python 3",
   "language": "python",
   "name": "python3"
  },
  "language_info": {
   "codemirror_mode": {
    "name": "ipython",
    "version": 3
   },
   "file_extension": ".py",
   "mimetype": "text/x-python",
   "name": "python",
   "nbconvert_exporter": "python",
   "pygments_lexer": "ipython3",
   "version": "3.6.8"
  }
 },
 "nbformat": 4,
 "nbformat_minor": 2
}
